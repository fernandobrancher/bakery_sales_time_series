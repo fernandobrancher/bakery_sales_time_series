{
 "cells": [
  {
   "cell_type": "markdown",
   "metadata": {},
   "source": [
    "### Importação das Bibliotecas"
   ]
  },
  {
   "cell_type": "code",
   "execution_count": 1,
   "metadata": {},
   "outputs": [],
   "source": [
    "# Tratamento dos dados\n",
    "import pandas as pd\n",
    "import numpy as np\n",
    "\n",
    "# Visualização de Dados\n",
    "import matplotlib.pyplot as plt\n",
    "import seaborn as sns\n",
    "import plotly.express as px\n",
    "from statsmodels.graphics import tsaplots\n",
    "from statsmodels.tsa.seasonal import seasonal_decompose\n",
    "\n",
    "# Ciência de Dados\n",
    "from sklearn.model_selection import train_test_split\n",
    "from sklearn.preprocessing import StandardScaler\n",
    "from sklearn.linear_model import LinearRegression\n",
    "from sklearn.metrics import accuracy_score\n",
    "\n",
    "# Biblioteca do Prophet - Modelo de Projeção\n",
    "from prophet import Prophet\n",
    "from prophet.plot import plot, plot_plotly, plot_components_plotly, add_changepoints_to_plot\n",
    "from prophet.plot import add_changepoints_to_plot, plot_seasonality, plot_cross_validation_metric\n",
    "from prophet.diagnostics import cross_validation"
   ]
  },
  {
   "cell_type": "markdown",
   "metadata": {},
   "source": [
    "### Importação e Descrição dos Dados"
   ]
  },
  {
   "cell_type": "markdown",
   "metadata": {},
   "source": [
    "Essa é a parte 3 de um projeto que busca prever as vendas de uma padaria francesa, agora através de modelos de Deep Learning.\n",
    "\n",
    "Para uma melhor compreensão do cenário, caso ainda não tenha acompanhado, recomenda-se ler o notebook ```bakery_sales_data_analysis.ipynb``` que apresenta uma analise exploratória do dados e o notebook ```bakery_sales_forecasting.ipynb``` traz previsões de vendas com modelos de regressão de Machine Learning."
   ]
  },
  {
   "cell_type": "code",
   "execution_count": 2,
   "metadata": {},
   "outputs": [
    {
     "data": {
      "text/html": [
       "<div>\n",
       "<style scoped>\n",
       "    .dataframe tbody tr th:only-of-type {\n",
       "        vertical-align: middle;\n",
       "    }\n",
       "\n",
       "    .dataframe tbody tr th {\n",
       "        vertical-align: top;\n",
       "    }\n",
       "\n",
       "    .dataframe thead th {\n",
       "        text-align: right;\n",
       "    }\n",
       "</style>\n",
       "<table border=\"1\" class=\"dataframe\">\n",
       "  <thead>\n",
       "    <tr style=\"text-align: right;\">\n",
       "      <th></th>\n",
       "      <th>date</th>\n",
       "      <th>time</th>\n",
       "      <th>ticket_number</th>\n",
       "      <th>quantity</th>\n",
       "      <th>total_bill</th>\n",
       "    </tr>\n",
       "  </thead>\n",
       "  <tbody>\n",
       "    <tr>\n",
       "      <th>0</th>\n",
       "      <td>2021-01-02</td>\n",
       "      <td>08:38:00</td>\n",
       "      <td>150040</td>\n",
       "      <td>1</td>\n",
       "      <td>0.90</td>\n",
       "    </tr>\n",
       "    <tr>\n",
       "      <th>1</th>\n",
       "      <td>2021-01-02</td>\n",
       "      <td>08:38:00</td>\n",
       "      <td>150040</td>\n",
       "      <td>3</td>\n",
       "      <td>3.60</td>\n",
       "    </tr>\n",
       "    <tr>\n",
       "      <th>4</th>\n",
       "      <td>2021-01-02</td>\n",
       "      <td>09:14:00</td>\n",
       "      <td>150041</td>\n",
       "      <td>2</td>\n",
       "      <td>2.40</td>\n",
       "    </tr>\n",
       "    <tr>\n",
       "      <th>5</th>\n",
       "      <td>2021-01-02</td>\n",
       "      <td>09:14:00</td>\n",
       "      <td>150041</td>\n",
       "      <td>1</td>\n",
       "      <td>1.15</td>\n",
       "    </tr>\n",
       "    <tr>\n",
       "      <th>8</th>\n",
       "      <td>2021-01-02</td>\n",
       "      <td>09:25:00</td>\n",
       "      <td>150042</td>\n",
       "      <td>5</td>\n",
       "      <td>6.00</td>\n",
       "    </tr>\n",
       "  </tbody>\n",
       "</table>\n",
       "</div>"
      ],
      "text/plain": [
       "        date      time  ticket_number  quantity  total_bill\n",
       "0 2021-01-02  08:38:00         150040         1        0.90\n",
       "1 2021-01-02  08:38:00         150040         3        3.60\n",
       "4 2021-01-02  09:14:00         150041         2        2.40\n",
       "5 2021-01-02  09:14:00         150041         1        1.15\n",
       "8 2021-01-02  09:25:00         150042         5        6.00"
      ]
     },
     "execution_count": 2,
     "metadata": {},
     "output_type": "execute_result"
    }
   ],
   "source": [
    "df = pd.read_csv('bakery_sales.csv', index_col=0)\n",
    "\n",
    "# Update datatypes and data processing\n",
    "df['date'] = pd.to_datetime(df['date'])\n",
    "df['time'] = pd.to_datetime(df['time'], format='%H:%M').dt.time\n",
    "\n",
    "df['Quantity'] = df['Quantity'].apply(lambda x: abs(int(x)))\n",
    "df['Quantity'] = df['Quantity'].astype(int)\n",
    "\n",
    "df['unit_price'] = df['unit_price'].str[:-2]\n",
    "df['unit_price'] = df['unit_price'].str.replace(\",\",\".\")\n",
    "df['unit_price'] = df['unit_price'].astype(float)\n",
    "\n",
    "df['ticket_number'] = df['ticket_number'].astype(int)\n",
    "\n",
    "# Cria coluna do total da compra\n",
    "df['total_bill'] = df['Quantity'] * df['unit_price']\n",
    "\n",
    "# Como nesse momento não será feita uma análise por produto, a coluna sera dropada\n",
    "df.rename(columns={'Quantity':'quantity'}, inplace=True)\n",
    "df_backup = df.copy()\n",
    "df.drop(columns=['article', 'unit_price'], inplace=True)\n",
    "df.head()"
   ]
  },
  {
   "cell_type": "code",
   "execution_count": 3,
   "metadata": {},
   "outputs": [
    {
     "data": {
      "text/html": [
       "<div>\n",
       "<style scoped>\n",
       "    .dataframe tbody tr th:only-of-type {\n",
       "        vertical-align: middle;\n",
       "    }\n",
       "\n",
       "    .dataframe tbody tr th {\n",
       "        vertical-align: top;\n",
       "    }\n",
       "\n",
       "    .dataframe thead th {\n",
       "        text-align: right;\n",
       "    }\n",
       "</style>\n",
       "<table border=\"1\" class=\"dataframe\">\n",
       "  <thead>\n",
       "    <tr style=\"text-align: right;\">\n",
       "      <th></th>\n",
       "      <th>ticket_number</th>\n",
       "      <th>date</th>\n",
       "      <th>time</th>\n",
       "      <th>quantity</th>\n",
       "      <th>total_bill</th>\n",
       "    </tr>\n",
       "  </thead>\n",
       "  <tbody>\n",
       "    <tr>\n",
       "      <th>0</th>\n",
       "      <td>150040</td>\n",
       "      <td>2021-01-02</td>\n",
       "      <td>08:38:00</td>\n",
       "      <td>4</td>\n",
       "      <td>4.50</td>\n",
       "    </tr>\n",
       "    <tr>\n",
       "      <th>1</th>\n",
       "      <td>150041</td>\n",
       "      <td>2021-01-02</td>\n",
       "      <td>09:14:00</td>\n",
       "      <td>3</td>\n",
       "      <td>3.55</td>\n",
       "    </tr>\n",
       "    <tr>\n",
       "      <th>2</th>\n",
       "      <td>150042</td>\n",
       "      <td>2021-01-02</td>\n",
       "      <td>09:25:00</td>\n",
       "      <td>5</td>\n",
       "      <td>6.00</td>\n",
       "    </tr>\n",
       "    <tr>\n",
       "      <th>3</th>\n",
       "      <td>150043</td>\n",
       "      <td>2021-01-02</td>\n",
       "      <td>09:25:00</td>\n",
       "      <td>5</td>\n",
       "      <td>5.10</td>\n",
       "    </tr>\n",
       "    <tr>\n",
       "      <th>4</th>\n",
       "      <td>150044</td>\n",
       "      <td>2021-01-02</td>\n",
       "      <td>09:27:00</td>\n",
       "      <td>1</td>\n",
       "      <td>1.05</td>\n",
       "    </tr>\n",
       "  </tbody>\n",
       "</table>\n",
       "</div>"
      ],
      "text/plain": [
       "   ticket_number       date      time  quantity  total_bill\n",
       "0         150040 2021-01-02  08:38:00         4        4.50\n",
       "1         150041 2021-01-02  09:14:00         3        3.55\n",
       "2         150042 2021-01-02  09:25:00         5        6.00\n",
       "3         150043 2021-01-02  09:25:00         5        5.10\n",
       "4         150044 2021-01-02  09:27:00         1        1.05"
      ]
     },
     "execution_count": 3,
     "metadata": {},
     "output_type": "execute_result"
    }
   ],
   "source": [
    "# Agrupa os dados por ticket (nota fiscal)\n",
    "df_grouped = df.groupby(by=('ticket_number')).agg({'date':'first',\n",
    "                                                   'time':'first',\n",
    "                                                   'quantity':'sum',\n",
    "                                                   'total_bill':'sum'})\n",
    "\n",
    "df_grouped.reset_index(inplace=True)\n",
    "\n",
    "df_grouped.head()"
   ]
  },
  {
   "cell_type": "code",
   "execution_count": 4,
   "metadata": {},
   "outputs": [
    {
     "name": "stdout",
     "output_type": "stream",
     "text": [
      "<class 'pandas.core.frame.DataFrame'>\n",
      "RangeIndex: 136451 entries, 0 to 136450\n",
      "Data columns (total 5 columns):\n",
      " #   Column         Non-Null Count   Dtype         \n",
      "---  ------         --------------   -----         \n",
      " 0   ticket_number  136451 non-null  int32         \n",
      " 1   date           136451 non-null  datetime64[ns]\n",
      " 2   time           136451 non-null  object        \n",
      " 3   quantity       136451 non-null  int32         \n",
      " 4   total_bill     136451 non-null  float64       \n",
      "dtypes: datetime64[ns](1), float64(1), int32(2), object(1)\n",
      "memory usage: 4.2+ MB\n"
     ]
    }
   ],
   "source": [
    "df_grouped.info()"
   ]
  },
  {
   "cell_type": "markdown",
   "metadata": {},
   "source": [
    "#### Novas Features"
   ]
  },
  {
   "cell_type": "code",
   "execution_count": 7,
   "metadata": {},
   "outputs": [
    {
     "data": {
      "text/html": [
       "<div>\n",
       "<style scoped>\n",
       "    .dataframe tbody tr th:only-of-type {\n",
       "        vertical-align: middle;\n",
       "    }\n",
       "\n",
       "    .dataframe tbody tr th {\n",
       "        vertical-align: top;\n",
       "    }\n",
       "\n",
       "    .dataframe thead th {\n",
       "        text-align: right;\n",
       "    }\n",
       "</style>\n",
       "<table border=\"1\" class=\"dataframe\">\n",
       "  <thead>\n",
       "    <tr style=\"text-align: right;\">\n",
       "      <th></th>\n",
       "      <th>date</th>\n",
       "      <th>quantity</th>\n",
       "      <th>sales</th>\n",
       "      <th>year</th>\n",
       "      <th>month</th>\n",
       "      <th>day</th>\n",
       "      <th>day_week</th>\n",
       "      <th>day_of_year</th>\n",
       "    </tr>\n",
       "  </thead>\n",
       "  <tbody>\n",
       "    <tr>\n",
       "      <th>0</th>\n",
       "      <td>2021-01-02</td>\n",
       "      <td>581</td>\n",
       "      <td>987.85</td>\n",
       "      <td>2021</td>\n",
       "      <td>1</td>\n",
       "      <td>2</td>\n",
       "      <td>5</td>\n",
       "      <td>2</td>\n",
       "    </tr>\n",
       "    <tr>\n",
       "      <th>1</th>\n",
       "      <td>2021-01-03</td>\n",
       "      <td>566</td>\n",
       "      <td>1016.10</td>\n",
       "      <td>2021</td>\n",
       "      <td>1</td>\n",
       "      <td>3</td>\n",
       "      <td>6</td>\n",
       "      <td>3</td>\n",
       "    </tr>\n",
       "    <tr>\n",
       "      <th>2</th>\n",
       "      <td>2021-01-04</td>\n",
       "      <td>315</td>\n",
       "      <td>461.90</td>\n",
       "      <td>2021</td>\n",
       "      <td>1</td>\n",
       "      <td>4</td>\n",
       "      <td>0</td>\n",
       "      <td>4</td>\n",
       "    </tr>\n",
       "    <tr>\n",
       "      <th>3</th>\n",
       "      <td>2021-01-05</td>\n",
       "      <td>315</td>\n",
       "      <td>536.50</td>\n",
       "      <td>2021</td>\n",
       "      <td>1</td>\n",
       "      <td>5</td>\n",
       "      <td>1</td>\n",
       "      <td>5</td>\n",
       "    </tr>\n",
       "    <tr>\n",
       "      <th>4</th>\n",
       "      <td>2021-01-07</td>\n",
       "      <td>310</td>\n",
       "      <td>544.00</td>\n",
       "      <td>2021</td>\n",
       "      <td>1</td>\n",
       "      <td>7</td>\n",
       "      <td>3</td>\n",
       "      <td>7</td>\n",
       "    </tr>\n",
       "  </tbody>\n",
       "</table>\n",
       "</div>"
      ],
      "text/plain": [
       "        date  quantity    sales  year  month  day  day_week  day_of_year\n",
       "0 2021-01-02       581   987.85  2021      1    2         5            2\n",
       "1 2021-01-03       566  1016.10  2021      1    3         6            3\n",
       "2 2021-01-04       315   461.90  2021      1    4         0            4\n",
       "3 2021-01-05       315   536.50  2021      1    5         1            5\n",
       "4 2021-01-07       310   544.00  2021      1    7         3            7"
      ]
     },
     "execution_count": 7,
     "metadata": {},
     "output_type": "execute_result"
    }
   ],
   "source": [
    "# Novas Variaves, para analise\n",
    "df = df_grouped.copy()\n",
    "\n",
    "df['year'] = df.date.dt.year\n",
    "df['month'] = df.date.dt.month\n",
    "df['day'] = df.date.dt.day\n",
    "df['day_week'] = df.date.dt.day_of_week\n",
    "df['hour'] = pd.to_datetime(df['time'], format='%H:%M:%S').dt.hour\n",
    "\n",
    "# Cria um dataset com dados diarios\n",
    "df_daily = df_grouped[['date', 'quantity', 'total_bill']].groupby('date').sum().reset_index()\n",
    "\n",
    "df_daily['year'] = df_daily.date.dt.year\n",
    "df_daily['month'] = df_daily.date.dt.month\n",
    "df_daily['day'] = df_daily.date.dt.day\n",
    "df_daily['day_week'] = df_daily.date.dt.day_of_week\n",
    "df_daily['day_of_year'] = df_daily.date.dt.dayofyear\n",
    "\n",
    "df_daily.rename(columns={'total_bill':'sales'}, inplace=True)\n",
    "df_daily.head()"
   ]
  },
  {
   "cell_type": "code",
   "execution_count": 9,
   "metadata": {},
   "outputs": [
    {
     "data": {
      "text/plain": [
       "(600, 8)"
      ]
     },
     "execution_count": 9,
     "metadata": {},
     "output_type": "execute_result"
    }
   ],
   "source": [
    "df_daily.shape"
   ]
  },
  {
   "cell_type": "markdown",
   "metadata": {},
   "source": [
    "### Previsão com Deep Learning"
   ]
  },
  {
   "cell_type": "markdown",
   "metadata": {},
   "source": [
    "⚠️⚠️⚠️⚠️⚠️⚠️⚠️⚠️⚠️⚠️⚠️⚠️ Inserir descrição"
   ]
  },
  {
   "cell_type": "code",
   "execution_count": 17,
   "metadata": {},
   "outputs": [
    {
     "data": {
      "text/html": [
       "<div>\n",
       "<style scoped>\n",
       "    .dataframe tbody tr th:only-of-type {\n",
       "        vertical-align: middle;\n",
       "    }\n",
       "\n",
       "    .dataframe tbody tr th {\n",
       "        vertical-align: top;\n",
       "    }\n",
       "\n",
       "    .dataframe thead th {\n",
       "        text-align: right;\n",
       "    }\n",
       "</style>\n",
       "<table border=\"1\" class=\"dataframe\">\n",
       "  <thead>\n",
       "    <tr style=\"text-align: right;\">\n",
       "      <th></th>\n",
       "      <th>year</th>\n",
       "      <th>day_of_year</th>\n",
       "      <th>sales</th>\n",
       "    </tr>\n",
       "  </thead>\n",
       "  <tbody>\n",
       "    <tr>\n",
       "      <th>0</th>\n",
       "      <td>2021</td>\n",
       "      <td>2</td>\n",
       "      <td>987.85</td>\n",
       "    </tr>\n",
       "    <tr>\n",
       "      <th>1</th>\n",
       "      <td>2021</td>\n",
       "      <td>3</td>\n",
       "      <td>1016.10</td>\n",
       "    </tr>\n",
       "    <tr>\n",
       "      <th>2</th>\n",
       "      <td>2021</td>\n",
       "      <td>4</td>\n",
       "      <td>461.90</td>\n",
       "    </tr>\n",
       "    <tr>\n",
       "      <th>3</th>\n",
       "      <td>2021</td>\n",
       "      <td>5</td>\n",
       "      <td>536.50</td>\n",
       "    </tr>\n",
       "    <tr>\n",
       "      <th>4</th>\n",
       "      <td>2021</td>\n",
       "      <td>7</td>\n",
       "      <td>544.00</td>\n",
       "    </tr>\n",
       "  </tbody>\n",
       "</table>\n",
       "</div>"
      ],
      "text/plain": [
       "   year  day_of_year    sales\n",
       "0  2021            2   987.85\n",
       "1  2021            3  1016.10\n",
       "2  2021            4   461.90\n",
       "3  2021            5   536.50\n",
       "4  2021            7   544.00"
      ]
     },
     "execution_count": 17,
     "metadata": {},
     "output_type": "execute_result"
    }
   ],
   "source": [
    "df = df_daily[['year', 'day_of_year', 'sales']]\n",
    "df.head()"
   ]
  },
  {
   "cell_type": "code",
   "execution_count": 20,
   "metadata": {},
   "outputs": [
    {
     "data": {
      "text/html": [
       "<div>\n",
       "<style scoped>\n",
       "    .dataframe tbody tr th:only-of-type {\n",
       "        vertical-align: middle;\n",
       "    }\n",
       "\n",
       "    .dataframe tbody tr th {\n",
       "        vertical-align: top;\n",
       "    }\n",
       "\n",
       "    .dataframe thead th {\n",
       "        text-align: right;\n",
       "    }\n",
       "</style>\n",
       "<table border=\"1\" class=\"dataframe\">\n",
       "  <thead>\n",
       "    <tr style=\"text-align: right;\">\n",
       "      <th></th>\n",
       "      <th>date</th>\n",
       "      <th>sales</th>\n",
       "    </tr>\n",
       "  </thead>\n",
       "  <tbody>\n",
       "    <tr>\n",
       "      <th>0</th>\n",
       "      <td>2021.005479</td>\n",
       "      <td>987.85</td>\n",
       "    </tr>\n",
       "    <tr>\n",
       "      <th>1</th>\n",
       "      <td>2021.008219</td>\n",
       "      <td>1016.10</td>\n",
       "    </tr>\n",
       "    <tr>\n",
       "      <th>2</th>\n",
       "      <td>2021.010959</td>\n",
       "      <td>461.90</td>\n",
       "    </tr>\n",
       "    <tr>\n",
       "      <th>3</th>\n",
       "      <td>2021.013699</td>\n",
       "      <td>536.50</td>\n",
       "    </tr>\n",
       "    <tr>\n",
       "      <th>4</th>\n",
       "      <td>2021.019178</td>\n",
       "      <td>544.00</td>\n",
       "    </tr>\n",
       "  </tbody>\n",
       "</table>\n",
       "</div>"
      ],
      "text/plain": [
       "          date    sales\n",
       "0  2021.005479   987.85\n",
       "1  2021.008219  1016.10\n",
       "2  2021.010959   461.90\n",
       "3  2021.013699   536.50\n",
       "4  2021.019178   544.00"
      ]
     },
     "execution_count": 20,
     "metadata": {},
     "output_type": "execute_result"
    }
   ],
   "source": [
    "# Cria uma coluna de valor numérico que representa a evolução dos dias\n",
    "day_value = 1/365\n",
    "df.loc[:,'date'] = df['year'] + df['day_of_year']*day_value\n",
    "df = df[['date', 'sales']]\n",
    "df.head()"
   ]
  },
  {
   "cell_type": "code",
   "execution_count": 80,
   "metadata": {},
   "outputs": [
    {
     "data": {
      "image/png": "[encoded data removed]",
      "text/plain": [
       "<Figure size 1000x500 with 1 Axes>"
      ]
     },
     "metadata": {},
     "output_type": "display_data"
    }
   ],
   "source": [
    "# Divisão dos dados em treino e teste\n",
    "len_train = len(df)*0.90\n",
    "len_test = len(df)-len_train\n",
    "\n",
    "train_data = df.loc[:len_train]\n",
    "test_data = df.loc[len_train+1:]\n",
    "\n",
    "# Aplica scaler\n",
    "scaler = StandardScaler()\n",
    "scaler.fit(train_data)\n",
    "train_data_sc = scaler.transform(train_data)\n",
    "test_data_sc = scaler.transform(test_data)\n",
    "\n",
    "train_data_sc = pd.DataFrame(train_data_sc, columns=train_data.columns)\n",
    "test_data_sc = pd.DataFrame(test_data_sc, columns=train_data.columns)\n",
    "\n",
    "# Continua na divisão dos dados\n",
    "X_train = train_data_sc['date']\n",
    "y_train = train_data_sc['sales']\n",
    "\n",
    "X_test = test_data_sc['date']\n",
    "y_test = test_data_sc['sales']\n",
    "\n",
    "# Plota dados de divisão\n",
    "plt.figure(figsize=(10,5))\n",
    "sns.lineplot(x=X_train, y=y_train, label='Treino') \n",
    "sns.lineplot(x=X_test, y=y_test,label='Teste')\n",
    "plt.title('Divisão em Treino e Teste, parametrizados')\n",
    "plt.xlabel('Data')\n",
    "plt.ylabel('Vendas')\n",
    "plt.show()"
   ]
  }
 ],
 "metadata": {
  "kernelspec": {
   "display_name": "Python 3",
   "language": "python",
   "name": "python3"
  },
  "language_info": {
   "codemirror_mode": {
    "name": "ipython",
    "version": 3
   },
   "file_extension": ".py",
   "mimetype": "text/x-python",
   "name": "python",
   "nbconvert_exporter": "python",
   "pygments_lexer": "ipython3",
   "version": "3.11.4"
  }
 },
 "nbformat": 4,
 "nbformat_minor": 2
}
